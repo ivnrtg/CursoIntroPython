{
 "cells": [
  {
   "cell_type": "markdown",
   "metadata": {},
   "source": [
    "## Ejercicio - Escribir declaraciones _if, else_ y _elif_\n",
    "\n",
    "Para este ejercicio, escribirás una lógica condicional que imprima una advertencia si un asteroide se acerca a la Tierra demasiado rápido. La velocidad del asteroide varía dependiendo de lo cerca que esté del sol, y cualquier velocidad superior a 25 kilómetros por segundo (km/s) merece una advertencia.\n",
    "\n",
    "Un asteroide se acerca, y viaja a una velocidad de 49 km/s."
   ]
  },
  {
   "cell_type": "code",
   "execution_count": 76,
   "metadata": {},
   "outputs": [
    {
     "name": "stdout",
     "output_type": "stream",
     "text": [
      "¡ADVERTENCIA! Un asteroide se aproxima a la Tierra demasiado rápido.\n"
     ]
    }
   ],
   "source": [
    "# Velocidad del asteroide en km/s\n",
    "a = 49\n",
    "# Velocidad de advertencia en km/s\n",
    "b = 25\n",
    "\n",
    "if a > b:\n",
    "    print(\"¡ADVERTENCIA! Un asteroide se aproxima a la Tierra demasiado rápido.\")\n",
    "else:\n",
    "    print(\"Ojalá hubiera algo que ver en el cielo.\")"
   ]
  },
  {
   "cell_type": "markdown",
   "metadata": {},
   "source": [
    "Si un asteroide entra en la atmósfera de la Tierra a una velocidad mayor o igual a 20 km/s, a veces produce un rayo de luz que se puede ver desde la Tierra. Escribe la lógica condicional que usa declaraciones if, else, y elif para alertar a las personas de todo el mundo que deben buscar un asteroide en el cielo. ¡Hay uno que se dirige a la tierra ahora a una velocidad de 19 km/s!"
   ]
  },
  {
   "cell_type": "code",
   "execution_count": 116,
   "metadata": {},
   "outputs": [
    {
     "name": "stdout",
     "output_type": "stream",
     "text": [
      "El cielo está muy tranquilo el día de hoy.\n"
     ]
    }
   ],
   "source": [
    "# Velocidad del asteroide en km/s\n",
    "a = 19\n",
    "# Velocidad para ver el rayo de luz en km/s\n",
    "b = 20\n",
    "\n",
    "if a > b:\n",
    "    print(\"¡RÁPIDO! Hay un rayo de luz en el cielo, quizás son las luces de un OVNI\")\n",
    "elif a == b:\n",
    "    print(\"¡RÁPIDO! Hay un rayo de luz en el cielo, quizás son las luces de un OVNI\")\n",
    "else:\n",
    "    print(\"El cielo está muy tranquilo el día de hoy.\")"
   ]
  },
  {
   "cell_type": "markdown",
   "metadata": {},
   "source": [
    "## Ejercicio: Uso de operadores _and_ y _or_\n",
    "\n",
    "En este ejercicio, aprenderás información más matizada sobre cuándo los asteroides representan un peligro para la Tierra, y utilizarás esa información para mejorar nuestro sistema de advertencia. Aquí está la nueva información que necesitas saber:\n",
    "\n",
    "*Los asteroides de menos de 25 metros en su dimensión más grande probablemente se quemarán a medida que entren en la atmósfera de la Tierra.\n",
    "\n",
    "Si una pieza de un asteroide que es más grande que 25 metros pero más pequeña que 1000 metros golpeara la Tierra, causaría mucho daño.\n",
    "También discutimos en el ejercicio anterior que:\n",
    "\n",
    "La velocidad del asteroide varía en función de lo cerca que esté del sol, y cualquier velocidad superior a 25 kilómetros por segundo (km/s) merece una advertencia.\n",
    "Si un asteroide entra en la atmósfera de la Tierra a una velocidad mayor o igual a 20 km/s, a veces produce un rayo de luz que se puede ver desde la Tierra.\n",
    "Usando toda esta información, escribe un programa que emita la advertencia o información correcta a la gente de la Tierra, según la velocidad y el tamaño de un asteroide. Utiliza instrucciones if, else, y elif, así como los operadores and y or."
   ]
  },
  {
   "cell_type": "code",
   "execution_count": null,
   "metadata": {},
   "outputs": [],
   "source": [
    "# Dimensión del asteroide en metros\n",
    "a = 1001\n",
    "# Velocidad del asteroide en km/s\n",
    "b = 26\n",
    "# Velocidad para ver el rayo de luz en km/s\n",
    "c = 20\n",
    "# Velocidad de advertencia en km/s\n",
    "d = 25\n",
    "\n",
    "if 1000 > a > 25 and b > d:\n",
    "    print(\"¡ADVERTENCIA! Un asteroide se aproxima a la Tierra demasiado rápido.\")\n",
    "elif b >= c and b < 26:\n",
    "    print(\"¡RÁPIDO! Hay un rayo de luz en el cielo, quizás son las luces de un OVNI\")\n",
    "elif b > d:\n",
    "    print(\"¡ADVERTENCIA! Un asteroide se aproxima a la Tierra demasiado rápido.\")\n",
    "else:\n",
    "    print(\"El cielo está muy tranquilo el día de hoy.\")"
   ]
  }
 ],
 "metadata": {
  "interpreter": {
   "hash": "fc6cc979a76aaa9030fd93ecd1e979c30659d308f3f2431d5ba70e1b17acd2f1"
  },
  "kernelspec": {
   "display_name": "Python 3.10.2 64-bit (windows store)",
   "language": "python",
   "name": "python3"
  },
  "language_info": {
   "codemirror_mode": {
    "name": "ipython",
    "version": 3
   },
   "file_extension": ".py",
   "mimetype": "text/x-python",
   "name": "python",
   "nbconvert_exporter": "python",
   "pygments_lexer": "ipython3",
   "version": "3.10.2"
  },
  "orig_nbformat": 4
 },
 "nbformat": 4,
 "nbformat_minor": 2
}
