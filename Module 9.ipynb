{
 "cells": [
  {
   "cell_type": "markdown",
   "metadata": {},
   "source": [
    "## Ejercicio 1: Uso de funciones en Python\n",
    "#### Ejercicio 1: Trabajar con argumentos en funciones\n",
    "Los argumentos requeridos en las funciones se utilizan cuando las funciones necesitan que esos argumentos funcionen correctamente. En este ejercicio, construirás un informe de combustible que requiere información de varias ubicaciones de combustible en todo el cohete.\n",
    "\n",
    "Comienza por crear una función que necesite tres lecturas de combustible y devuelva un informe:"
   ]
  },
  {
   "cell_type": "code",
   "execution_count": 11,
   "metadata": {},
   "outputs": [],
   "source": [
    "def generar_reporte(tanque_prin, tanque_ext, tanque_hidro):\n",
    "    promedio_total = (tanque_prin + tanque_ext + tanque_hidro) / 3\n",
    "    return f\"\"\"Reporte de combustible:\n",
    "    Promedio total: {promedio_total}%\n",
    "    Tanque principal: {tanque_prin}%\n",
    "    Tanque externo: {tanque_ext}%\n",
    "    Tanque Hidrógeno: {tanque_hidro}%\n",
    "    \"\"\""
   ]
  },
  {
   "cell_type": "markdown",
   "metadata": {},
   "source": [
    "Ahora que hemos definido la función de informes, vamos a comprobarlo. Para esta misión, los tanques no están llenos:"
   ]
  },
  {
   "cell_type": "code",
   "execution_count": 12,
   "metadata": {},
   "outputs": [
    {
     "name": "stdout",
     "output_type": "stream",
     "text": [
      "Reporte de combustible:\n",
      "    Promedio total: 63.333333333333336%\n",
      "    Tanque principal: 60%\n",
      "    Tanque externo: 80%\n",
      "    Tanque Hidrógeno: 50%\n",
      "    \n"
     ]
    }
   ],
   "source": [
    "print(generar_reporte(60, 80, 50))"
   ]
  },
  {
   "cell_type": "markdown",
   "metadata": {},
   "source": [
    "En lugar de simplemente crear el informe, la función también está calculando el promedio. Mejora la legibilidad extrayendo el cálculo promedio de la función en una nueva función para que el promedio se pueda hacer de forma independiente:"
   ]
  },
  {
   "cell_type": "code",
   "execution_count": 15,
   "metadata": {},
   "outputs": [
    {
     "data": {
      "text/plain": [
       "63.333333333333336"
      ]
     },
     "execution_count": 15,
     "metadata": {},
     "output_type": "execute_result"
    }
   ],
   "source": [
    "def promedio(valores):\n",
    "    total = sum(valores)\n",
    "    numero_de_valores = len(valores)\n",
    "    return total / numero_de_valores\n",
    "\n",
    "promedio([60, 80, 50])"
   ]
  },
  {
   "cell_type": "markdown",
   "metadata": {},
   "source": [
    "Ahora actualiza la función de informes para llamando a la nueva función del promedio:"
   ]
  },
  {
   "cell_type": "code",
   "execution_count": 17,
   "metadata": {},
   "outputs": [
    {
     "name": "stdout",
     "output_type": "stream",
     "text": [
      "Reporte de combustible:\n",
      "    Promedio total: 66.66666666666667%\n",
      "    Tanque principal: 70%\n",
      "    Tanque externo: 40%\n",
      "    Tanque Hidrógeno: 90%\n",
      "    \n"
     ]
    }
   ],
   "source": [
    "def generar_reporte(tanque_prin, tanque_ext, tanque_hidro):\n",
    "    promedio_total = (tanque_prin + tanque_ext + tanque_hidro) / 3\n",
    "    return f\"\"\"Reporte de combustible:\n",
    "    Promedio total: {promedio([tanque_prin, tanque_ext, tanque_hidro])}%\n",
    "    Tanque principal: {tanque_prin}%\n",
    "    Tanque externo: {tanque_ext}%\n",
    "    Tanque Hidrógeno: {tanque_hidro}%\n",
    "    \"\"\"\n",
    "\n",
    "print(generar_reporte(70, 40, 90))"
   ]
  }
 ],
 "metadata": {
  "interpreter": {
   "hash": "024729a5bca58c6e1788c5a6d35f7b53429a8edab7f79922f053c498fd9581b4"
  },
  "kernelspec": {
   "display_name": "Python 3.10.2 64-bit",
   "language": "python",
   "name": "python3"
  },
  "language_info": {
   "codemirror_mode": {
    "name": "ipython",
    "version": 3
   },
   "file_extension": ".py",
   "mimetype": "text/x-python",
   "name": "python",
   "nbconvert_exporter": "python",
   "pygments_lexer": "ipython3",
   "version": "3.10.2"
  },
  "orig_nbformat": 4
 },
 "nbformat": 4,
 "nbformat_minor": 2
}
